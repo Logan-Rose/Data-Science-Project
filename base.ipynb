{
 "cells": [
  {
   "cell_type": "code",
   "execution_count": 1,
   "metadata": {},
   "outputs": [
    {
     "name": "stderr",
     "output_type": "stream",
     "text": [
      "/tmp/ipykernel_183084/4229942640.py:10: DtypeWarning: Columns (24,25) have mixed types. Specify dtype option on import or set low_memory=False.\n",
      "  catastrophes = pd.read_csv('./data/emdat_public_2022_01_31.csv')\n"
     ]
    }
   ],
   "source": [
    "import pandas as pd\n",
    "\n",
    "\n",
    "countries = pd.read_csv('./data/HNP_StatsCountry.csv')\n",
    "countrySeries = pd.read_csv('./data/HNP_StatsCountry-Series.csv')\n",
    "data = pd.read_csv('./data/HNP_StatsData.csv')\n",
    "footNote = pd.read_csv('./data/HNP_StatsFootNote.csv')\n",
    "seriesTime = pd.read_csv('./data/HNP_StatsSeries-Time.csv')\n",
    "series = pd.read_csv('./data/HNP_StatsSeries.csv')\n",
    "catastrophes = pd.read_csv('./data/emdat_public_2022_01_31.csv')\n",
    "electoralViolence = pd.read_csv('./data/ucdp-prio-acd-211.csv')\n",
    "\n",
    "fullData = [\n",
    "  countries,\n",
    "  countrySeries,\n",
    "  data,\n",
    "  footNote,\n",
    "  seriesTime,\n",
    "  series,\n",
    "  catastrophes\n",
    "]"
   ]
  },
  {
   "cell_type": "code",
   "execution_count": null,
   "metadata": {},
   "outputs": [],
   "source": [
    "def getAllColumns():\n",
    "  for frame in fullData:\n",
    "    print('----------------')\n",
    "    for col in frame.columns:\n",
    "      print(col)\n",
    "  print('----------------')\n",
    "print(getAllColumns())"
   ]
  },
  {
   "cell_type": "code",
   "execution_count": null,
   "metadata": {},
   "outputs": [],
   "source": [
    "def getTopics():\n",
    "  column_values = series[[\"Topic\"]].values.ravel()\n",
    "  unique_values =  pd.unique(column_values)\n",
    "  print(unique_values)\n",
    "\n",
    "print(getTopics())"
   ]
  },
  {
   "cell_type": "code",
   "execution_count": null,
   "metadata": {},
   "outputs": [],
   "source": [
    "def getStats():\n",
    "  for col in data.columns:\n",
    "    print(col)\n",
    "\n",
    "print(data['Indicator Name'].unique())"
   ]
  },
  {
   "cell_type": "code",
   "execution_count": null,
   "metadata": {},
   "outputs": [],
   "source": [
    "def getIndicators(topics):\n",
    "  healthStats = series.loc[series['Topic'].isin(topics)]\n",
    "  column_values = healthStats[[\"Indicator Name\"]].values.ravel()\n",
    "  unique_values =  pd.unique(column_values)\n",
    "  print(unique_values)\n",
    "\n",
    "healthIndicatorTopics = ['Non-communicable diseases', 'Nutrition', 'HIV/AIDS', 'Reproductive health', 'Water and sanitation', 'Immunization', 'Medical resources and usage' 'Infectious diseases' 'Health financing', 'Background: Poverty']\n",
    "\n",
    "#getIndicators(healthIndicatorTopics)\n",
    "\n",
    "for col in electoralViolence.columns:\n",
    "   print(col)"
   ]
  },
  {
   "cell_type": "code",
   "execution_count": 10,
   "metadata": {},
   "outputs": [
    {
     "name": "stdout",
     "output_type": "stream",
     "text": [
      "      Country Name Country Code  \\\n",
      "38388       Canada          CAN   \n",
      "38389       Canada          CAN   \n",
      "38390       Canada          CAN   \n",
      "38391       Canada          CAN   \n",
      "38392       Canada          CAN   \n",
      "...            ...          ...   \n",
      "61233        Haiti          HTI   \n",
      "61234        Haiti          HTI   \n",
      "61235        Haiti          HTI   \n",
      "61236        Haiti          HTI   \n",
      "61237        Haiti          HTI   \n",
      "\n",
      "                                          Indicator Name     Indicator Code  \\\n",
      "38388  Adolescent fertility rate (births per 1,000 wo...        SP.ADO.TFRT   \n",
      "38389  Adults (ages 15+) and children (0-14 years) li...        SH.HIV.TOTL   \n",
      "38390  Adults (ages 15+) and children (ages 0-14) new...     SH.HIV.INCD.TL   \n",
      "38391                  Adults (ages 15+) living with HIV        SH.DYN.AIDS   \n",
      "38392        Adults (ages 15-49) newly infected with HIV        SH.HIV.INCD   \n",
      "...                                                  ...                ...   \n",
      "61233           Wanted fertility rate (births per woman)        SP.DYN.WFRT   \n",
      "61234  Women who were first married by age 15 (% of w...  SP.M15.2024.FE.ZS   \n",
      "61235  Women who were first married by age 18 (% of w...  SP.M18.2024.FE.ZS   \n",
      "61236  Women's share of population ages 15+ living wi...  SH.DYN.AIDS.FE.ZS   \n",
      "61237  Young people (ages 15-24) newly infected with HIV     SH.HIV.INCD.YG   \n",
      "\n",
      "          1960     1961    1962     1963     1964     1965  ...     2013  \\\n",
      "38388  55.6252  54.8606  54.096  52.2866  50.4772  48.6678  ...  10.8726   \n",
      "38389      NaN      NaN     NaN      NaN      NaN      NaN  ...  54000.0   \n",
      "38390      NaN      NaN     NaN      NaN      NaN      NaN  ...      NaN   \n",
      "38391      NaN      NaN     NaN      NaN      NaN      NaN  ...      NaN   \n",
      "38392      NaN      NaN     NaN      NaN      NaN      NaN  ...      NaN   \n",
      "...        ...      ...     ...      ...      ...      ...  ...      ...   \n",
      "61233      NaN      NaN     NaN      NaN      NaN      NaN  ...      NaN   \n",
      "61234      NaN      NaN     NaN      NaN      NaN      NaN  ...      NaN   \n",
      "61235      NaN      NaN     NaN      NaN      NaN      NaN  ...      NaN   \n",
      "61236      NaN      NaN     NaN      NaN      NaN      NaN  ...     56.6   \n",
      "61237      NaN      NaN     NaN      NaN      NaN      NaN  ...   2500.0   \n",
      "\n",
      "          2014     2015     2016     2017     2018    2019    2020 2021  \\\n",
      "38388  10.2512   9.6298   9.0084    8.387   8.0346  7.6822     NaN  NaN   \n",
      "38389  55000.0  57000.0  58000.0  60000.0  62000.0     NaN     NaN  NaN   \n",
      "38390      NaN      NaN      NaN      NaN      NaN     NaN     NaN  NaN   \n",
      "38391      NaN      NaN      NaN      NaN      NaN     NaN     NaN  NaN   \n",
      "38392      NaN      NaN      NaN      NaN      NaN     NaN     NaN  NaN   \n",
      "...        ...      ...      ...      ...      ...     ...     ...  ...   \n",
      "61233      NaN      NaN      NaN      1.9      NaN     NaN     NaN  NaN   \n",
      "61234      NaN      NaN      NaN      2.1      NaN     NaN     NaN  NaN   \n",
      "61235      NaN      NaN      NaN     14.9      NaN     NaN     NaN  NaN   \n",
      "61236     57.0     57.4     57.9     58.2     58.6    58.9    59.1  NaN   \n",
      "61237   2300.0   2200.0   2100.0   1900.0   1700.0  1700.0  1400.0  NaN   \n",
      "\n",
      "      Unnamed: 66  \n",
      "38388         NaN  \n",
      "38389         NaN  \n",
      "38390         NaN  \n",
      "38391         NaN  \n",
      "38392         NaN  \n",
      "...           ...  \n",
      "61233         NaN  \n",
      "61234         NaN  \n",
      "61235         NaN  \n",
      "61236         NaN  \n",
      "61237         NaN  \n",
      "\n",
      "[4113 rows x 67 columns]\n"
     ]
    }
   ],
   "source": [
    "countries = [\n",
    "  'CAN',\n",
    "  'USA',\n",
    "  'MEX',\n",
    "  'IND',\n",
    "  'CHN',\n",
    "  'AFG',\n",
    "  'BGD',\n",
    "  'BRA',\n",
    "  'HTI'\n",
    "]\n",
    "\n",
    "\n",
    "education_keys = [\n",
    "'SE.ADT.LITR.ZS',\n",
    "'SE.ADT.LITR.FE.ZS',\n",
    "'SE.ADT.LITR.MA.ZS',\n",
    "'SE.PRM.ENRR',\n",
    "'SE.PRM.ENRR.FE',\n",
    "'SE.PRM.ENRR.MA',\n",
    "'SE.SEC.ENRR',\n",
    "'SE.SEC.ENRR.FE',\n",
    "'SE.PRM.ENRR',\n",
    "'SE.XPD.TOTL.GD.ZS',\n",
    "'SE.PRM.CMPT.FE.ZS',\n",
    "'SE.PRM.CMPT.MA.ZS',\n",
    "'SE.PRM.CMPT.ZS',\n",
    "]\n",
    "\n",
    "tables = {'Education': education_keys}\n",
    "\n",
    "\n",
    "selected_data = pd.DataFrame(columns=data.columns)\n",
    "\n",
    "for country in countries:\n",
    "  current_info = data.loc[data['Country Code'] == country]\n",
    "  selected_data = pd.concat((selected_data, current_info))\n",
    "\n",
    "print(selected_data)\n"
   ]
  }
 ],
 "metadata": {
  "interpreter": {
   "hash": "916dbcbb3f70747c44a77c7bcd40155683ae19c65e1c03b4aa3499c5328201f1"
  },
  "kernelspec": {
   "display_name": "Python 3.8.10 64-bit",
   "language": "python",
   "name": "python3"
  },
  "language_info": {
   "codemirror_mode": {
    "name": "ipython",
    "version": 3
   },
   "file_extension": ".py",
   "mimetype": "text/x-python",
   "name": "python",
   "nbconvert_exporter": "python",
   "pygments_lexer": "ipython3",
   "version": "3.8.10"
  },
  "orig_nbformat": 4
 },
 "nbformat": 4,
 "nbformat_minor": 2
}
