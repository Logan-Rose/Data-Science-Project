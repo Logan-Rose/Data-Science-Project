{
 "cells": [
  {
   "cell_type": "code",
   "execution_count": 2,
   "metadata": {},
   "outputs": [
    {
     "name": "stderr",
     "output_type": "stream",
     "text": [
      "/tmp/ipykernel_77875/263630238.py:4: DtypeWarning: Columns (24,25) have mixed types. Specify dtype option on import or set low_memory=False.\n",
      "  data = pd.read_csv('./data/emdat_public_2022_01_31.csv')\n"
     ]
    }
   ],
   "source": [
    "import pandas as pd\n",
    "\n",
    "\n",
    "data = pd.read_csv('./data/emdat_public_2022_01_31.csv')\n",
    "\n",
    "\n"
   ]
  },
  {
   "cell_type": "code",
   "execution_count": 4,
   "metadata": {},
   "outputs": [],
   "source": [
    "countries = [\n",
    "  'Canada',\n",
    "  'United States of America (the)',\n",
    "  'Mexico',\n",
    "  'India',\n",
    "  'China',\n",
    "  'Sudan',\n",
    "  'Bangladesh',\n",
    "  'Brazil',\n",
    "  'Niger'\n",
    "]\n",
    "columns = [\n",
    "  'Dis No',\n",
    "  'Country',\n",
    "  'Start Year',\n",
    "  'Start Month',\n",
    "  'Start Day',\n",
    "  'End Year',\n",
    "  'End Month',\n",
    "  'End Day',\n",
    "  'Disaster Group',\n",
    "  'Disaster Subgroup',\n",
    "  'Disaster Type',\n",
    "  'Disaster Subtype',\n",
    "  'Total Affected',\n",
    "  'Total Deaths',  \n",
    "]"
   ]
  },
  {
   "cell_type": "code",
   "execution_count": 6,
   "metadata": {},
   "outputs": [],
   "source": [
    "\n",
    "selected_data = pd.DataFrame(columns = columns)\n",
    "\n",
    "for country in countries:\n",
    "    current_info = data.loc[data['Country'] == country]\n",
    "    current_info = current_info.loc[data['Start Year'].between(2005, 2020)]\n",
    "    selected_data = pd.concat((selected_data, current_info[columns]))\n",
    "\n",
    "\n",
    "selected_data = selected_data.rename(columns={\n",
    "  'Dis No': 'disaster_key',\n",
    "  'Country': 'country',\n",
    "  'Start Year':'start_year',\n",
    "  'Start Month':'start_month',\n",
    "  'Start Day':'start_day',\n",
    "  'End Year':'end_year',\n",
    "  'End Month':'end_month',\n",
    "  'End Day':'end_day',\n",
    "  'Disaster Group':'disaster_group',\n",
    "  'Disaster Subgroup':'disaster_subgroup',\n",
    "  'Disaster Type':'disaster_type',\n",
    "  'Disaster Subtype' :'disaster_subtype',\n",
    "  'Total Affected':'total_affected',\n",
    "  'Total Deaths' :'total_disaster_deaths'})\n",
    "\n",
    "\n",
    "\n",
    "selected_data.to_csv(path_or_buf=f'./seed_data/Disasters_seed.csv')\n",
    "\n",
    "\n",
    "\n",
    "\n",
    "\n",
    "\n",
    "\n",
    "\n"
   ]
  }
 ],
 "metadata": {
  "interpreter": {
   "hash": "876c78567674b0e0e7cd3f60a7ddd4384a6ee26066c3b18ab285600f0d9d856a"
  },
  "kernelspec": {
   "display_name": "Python 3.9.4 ('csi4106')",
   "language": "python",
   "name": "python3"
  },
  "language_info": {
   "codemirror_mode": {
    "name": "ipython",
    "version": 3
   },
   "file_extension": ".py",
   "mimetype": "text/x-python",
   "name": "python",
   "nbconvert_exporter": "python",
   "pygments_lexer": "ipython3",
   "version": "3.8.10"
  },
  "orig_nbformat": 4
 },
 "nbformat": 4,
 "nbformat_minor": 2
}
