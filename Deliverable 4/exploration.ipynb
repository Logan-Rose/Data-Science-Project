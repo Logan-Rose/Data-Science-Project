{
 "cells": [
  {
   "cell_type": "code",
   "execution_count": 9,
   "metadata": {},
   "outputs": [],
   "source": [
    "import psycopg2\n",
    "import pandas as pd"
   ]
  },
  {
   "cell_type": "code",
   "execution_count": 17,
   "metadata": {},
   "outputs": [],
   "source": [
    "conn = psycopg2.connect(\n",
    "    host=\"localhost\",\n",
    "    database=\"postgres\",\n",
    "    user=\"postgres\",\n",
    "    password=\"mysecretpassword\")\n",
    "cur = conn.cursor()"
   ]
  },
  {
   "cell_type": "code",
   "execution_count": 32,
   "metadata": {},
   "outputs": [],
   "source": [
    "def getTable(name):\n",
    "  cur.execute('SELECT * from ' + name)\n",
    "  return pd.DataFrame(cur.fetchall(), columns=[desc[0] for desc in cur.description])\n",
    "\n",
    "def getAverageHDI():\n",
    "  cur.execute(\"select AVG(F.hdi), C.short_name FROM fact as F, country as C, event as E WHERE F.country_key = C.key and F.event_key = E.key Group by C.short_name order by avg desc\")\n",
    "  return pd.DataFrame(cur.fetchall(), columns=[desc[0] for desc in cur.description])\n"
   ]
  },
  {
   "cell_type": "code",
   "execution_count": 33,
   "metadata": {},
   "outputs": [
    {
     "name": "stdout",
     "output_type": "stream",
     "text": [
      "                      avg     short_name\n",
      "0  0.91747899159663865546  United States\n",
      "1  0.91087096774193548387         Canada\n",
      "2  0.75793181818181818182         Mexico\n",
      "3  0.74082269503546099291         Brazil\n",
      "4  0.69961555806087936866          China\n",
      "5  0.59452631578947368421          India\n",
      "6  0.56823404255319148936     Bangladesh\n",
      "7  0.49454285714285714286          Sudan\n",
      "8  0.37659090909090909091          Niger\n"
     ]
    },
    {
     "data": {
      "image/png": "[encoded data removed]",
      "text/plain": [
       "<Figure size 432x288 with 1 Axes>"
      ]
     },
     "metadata": {
      "needs_background": "light"
     },
     "output_type": "display_data"
    }
   ],
   "source": [
    "hdis = getAverageHDI()\n",
    "print(hdis)\n",
    "\n",
    "ax1 = hdis.plot.scatter(x='short_name', y='avg', c='DarkBlue')"
   ]
  }
 ],
 "metadata": {
  "interpreter": {
   "hash": "c4e340a1d185bddc1c911de6b47f046a9c2c15f797f59e09eabdfc409c3d847a"
  },
  "kernelspec": {
   "display_name": "Python 3.10.4 ('csi4142')",
   "language": "python",
   "name": "python3"
  },
  "language_info": {
   "codemirror_mode": {
    "name": "ipython",
    "version": 3
   },
   "file_extension": ".py",
   "mimetype": "text/x-python",
   "name": "python",
   "nbconvert_exporter": "python",
   "pygments_lexer": "ipython3",
   "version": "3.10.4"
  },
  "orig_nbformat": 4
 },
 "nbformat": 4,
 "nbformat_minor": 2
}
