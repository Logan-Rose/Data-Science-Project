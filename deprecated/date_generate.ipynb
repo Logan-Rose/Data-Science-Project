{
 "cells": [
  {
   "cell_type": "code",
   "execution_count": 10,
   "metadata": {},
   "outputs": [
    {
     "name": "stdout",
     "output_type": "stream",
     "text": [
      "  key      name  year month_number quarter decade\n",
      "0   0   January  2005            0       0    200\n",
      "1   1  February  2005            1       0    200\n",
      "2   2     March  2005            2       0    200\n",
      "3   3     April  2005            3       1    200\n",
      "4   4       May  2005            4       1    200\n"
     ]
    }
   ],
   "source": [
    "import pandas as pd\n",
    "import warnings\n",
    "warnings.simplefilter(action='ignore', category=FutureWarning)\n",
    "  # key TEXT PRIMARY KEY NOT NULL,\n",
    "  # month_name TEXT,\n",
    "  # quarter INT,\n",
    "  # year INT,\n",
    "  # decade INT\n",
    "\n",
    "months = [\n",
    "  'January',\n",
    "  'February',\n",
    "  'March',\n",
    "  'April',\n",
    "  'May',\n",
    "  'June',\n",
    "  'July',\n",
    "  'August',\n",
    "  'September',\n",
    "  'October',\n",
    "  'November',\n",
    "  'December'\n",
    "]\n",
    "\n",
    "df = pd.DataFrame(columns=['key', 'name', 'year', 'month_number', 'quarter', 'decade'])\n",
    "key = 0\n",
    "for year in range(2005, 2021):\n",
    "  for month in range(12):\n",
    "    df = df.append({\n",
    "      'key': key,\n",
    "      'name': months[month],\n",
    "      'year': year,\n",
    "      'month_number': month,\n",
    "      'quarter': month//3,\n",
    "      'decade': year//10,\n",
    "    }, ignore_index=True)\n",
    "    key +=1\n",
    "\n",
    "print(df.head())\n",
    "df.to_csv(path_or_buf=f'./seed_data/date_seed.csv', index=False)\n"
   ]
  }
 ],
 "metadata": {
  "interpreter": {
   "hash": "367e97bd1bb993270875333a5c0c0ed703268d8b20e00e99d22f213f8fc7c5a0"
  },
  "kernelspec": {
   "display_name": "Python 3.8.12 ('csi4106')",
   "language": "python",
   "name": "python3"
  },
  "language_info": {
   "codemirror_mode": {
    "name": "ipython",
    "version": 3
   },
   "file_extension": ".py",
   "mimetype": "text/x-python",
   "name": "python",
   "nbconvert_exporter": "python",
   "pygments_lexer": "ipython3",
   "version": "3.8.12"
  },
  "orig_nbformat": 4
 },
 "nbformat": 4,
 "nbformat_minor": 2
}
