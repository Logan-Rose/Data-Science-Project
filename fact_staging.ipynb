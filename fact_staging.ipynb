{
 "cells": [
  {
   "cell_type": "code",
   "execution_count": 75,
   "metadata": {},
   "outputs": [],
   "source": [
    "import pandas as pd\n",
    "import datetime\n",
    "# Do I use index columns?? Not sure!\n",
    "# dates = pd.read_csv('./seed_data/date_seed.csv', index_col=0)\n",
    "dates = pd.read_csv('./seed_data/date_seed.csv')\n",
    "events = pd.read_csv('./seed_data/Disasters_seed.csv')\n",
    "education = pd.read_csv('./seed_data/Education_seed.csv')\n",
    "health = pd.read_csv('./seed_data/Health_seed.csv')\n",
    "population = pd.read_csv('./seed_data/Population_seed.csv')\n",
    "qualityOfLife = pd.read_csv('./seed_data/Quality_of_life_seed.csv')\n",
    "countries = pd.read_csv('./seed_data/countries_seed.csv')\n",
    "\n",
    "def extractKey(key):\n",
    "  if len(key) ==0:\n",
    "    return None\n",
    "  else:\n",
    "    return key[0]\n"
   ]
  },
  {
   "cell_type": "code",
   "execution_count": 96,
   "metadata": {},
   "outputs": [
    {
     "name": "stdout",
     "output_type": "stream",
     "text": [
      "key                               2005-0764-CAN\n",
      "Country                                  Canada\n",
      "start_year                                 2005\n",
      "start_month                                11.0\n",
      "start_day                                  30.0\n",
      "end_year                                   2005\n",
      "end_month                                  12.0\n",
      "end_day                                     1.0\n",
      "disaster_group                    Technological\n",
      "disaster_subgroup                 Technological\n",
      "disaster_type            Miscellaneous accident\n",
      "disaster_subtype                          Other\n",
      "total_affected                            506.0\n",
      "total_disaster_deaths                       0.0\n",
      "Name: 2, dtype: object\n"
     ]
    },
    {
     "ename": "TypeError",
     "evalue": "unsupported operand type(s) for +: 'datetime.datetime' and 'int'",
     "output_type": "error",
     "traceback": [
      "\u001b[0;31m---------------------------------------------------------------------------\u001b[0m",
      "\u001b[0;31mTypeError\u001b[0m                                 Traceback (most recent call last)",
      "Input \u001b[0;32mIn [96]\u001b[0m, in \u001b[0;36m<module>\u001b[0;34m\u001b[0m\n\u001b[1;32m     11\u001b[0m start \u001b[38;5;241m=\u001b[39m datetime\u001b[38;5;241m.\u001b[39mdatetime(start_year, start_month, start_day)\n\u001b[1;32m     12\u001b[0m end \u001b[38;5;241m=\u001b[39m datetime\u001b[38;5;241m.\u001b[39mdatetime(end_year, end_month, end_day)\n\u001b[0;32m---> 13\u001b[0m testDate \u001b[38;5;241m=\u001b[39m  \u001b[43mdatetime\u001b[49m\u001b[38;5;241;43m.\u001b[39;49m\u001b[43mdatetime\u001b[49m\u001b[43m(\u001b[49m\u001b[43mstart_year\u001b[49m\u001b[43m,\u001b[49m\u001b[43m \u001b[49m\u001b[43mstart_month\u001b[49m\u001b[43m,\u001b[49m\u001b[43m \u001b[49m\u001b[43mstart_day\u001b[49m\u001b[43m)\u001b[49m\u001b[43m \u001b[49m\u001b[38;5;241;43m+\u001b[39;49m\u001b[43m \u001b[49m\u001b[38;5;241;43m1\u001b[39;49m\n\u001b[1;32m     15\u001b[0m \u001b[38;5;28mprint\u001b[39m(testDate\u001b[38;5;241m.\u001b[39myear)\n\u001b[1;32m     18\u001b[0m dateList \u001b[38;5;241m=\u001b[39m pd\u001b[38;5;241m.\u001b[39mdate_range(start, end)\n",
      "\u001b[0;31mTypeError\u001b[0m: unsupported operand type(s) for +: 'datetime.datetime' and 'int'"
     ]
    }
   ],
   "source": [
    "# event_key start_year,start_month,start_day,end_year\n",
    "tmp = events.loc[2]\n",
    "print(tmp)\n",
    "start_year = tmp['start_year']\n",
    "start_month = int(tmp['start_month'])\n",
    "start_day = int(tmp['start_day'])\n",
    "end_year = tmp['end_year']\n",
    "end_month = int(tmp['end_month'])\n",
    "end_day = int(tmp['end_day'])\n",
    "\n",
    "\n",
    "print(testDate.year)\n",
    "\n",
    "\n",
    "dateList = pd.date_range(start, end)\n",
    "\n",
    "\n",
    "\n",
    "\n",
    "\n",
    "print(dateList)\n",
    "\n",
    "\n",
    "print(start,' - ', end)\n"
   ]
  },
  {
   "cell_type": "code",
   "execution_count": null,
   "metadata": {},
   "outputs": [],
   "source": [
    "\n",
    "for date_index in dates.index:\n",
    "  for country_index in countries.index:\n",
    "    country_code = countries['Country Code'][country_index]\n",
    "    year = dates['year'][date_index]\n",
    "    month = dates['month_number'][date_index]\n",
    "    education_key = extractKey(education[(education['alpha_code']==country_code) & (education['Year']==year)]['key'].values)\n",
    "    health_key = extractKey(health[(health['alpha_code']==country_code) & (health['Year']==year)]['key'].values)\n",
    "    quality_of_life_key = extractKey(qualityOfLife[(qualityOfLife['alpha_code']==country_code) & (qualityOfLife['Year']==year)]['key'].values)\n",
    "    population_key = extractKey(population[(population['alpha_code']==country_code) & (population['Year']==year)]['key'].values)\n",
    "\n",
    "    print(country_code, year, month, education_key, health_key, quality_of_life_key)\n",
    "    # print(education_key)\n",
    "\n",
    "\n",
    "# For every month\n",
    "# For every country\n",
    "# we need to look at the \n",
    "# \n",
    "# "
   ]
  }
 ],
 "metadata": {
  "interpreter": {
   "hash": "367e97bd1bb993270875333a5c0c0ed703268d8b20e00e99d22f213f8fc7c5a0"
  },
  "kernelspec": {
   "display_name": "Python 3.8.12 ('csi4106')",
   "language": "python",
   "name": "python3"
  },
  "language_info": {
   "codemirror_mode": {
    "name": "ipython",
    "version": 3
   },
   "file_extension": ".py",
   "mimetype": "text/x-python",
   "name": "python",
   "nbconvert_exporter": "python",
   "pygments_lexer": "ipython3",
   "version": "3.8.12"
  },
  "orig_nbformat": 4
 },
 "nbformat": 4,
 "nbformat_minor": 2
}
