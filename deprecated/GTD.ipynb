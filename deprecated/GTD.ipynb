{
 "cells": [
  {
   "cell_type": "code",
   "execution_count": 22,
   "metadata": {},
   "outputs": [],
   "source": [
    "import pandas as pd\n",
    "\n",
    "data = pd.read_csv('./data/globalterrorismdb_0221dist_filtered.csv')\n",
    "fullData = [\n",
    "  data\n",
    "]"
   ]
  },
  {
   "cell_type": "code",
   "execution_count": 23,
   "metadata": {},
   "outputs": [
    {
     "name": "stdout",
     "output_type": "stream",
     "text": [
      "----------------\n",
      "eventid\n",
      "iyear\n",
      "imonth\n",
      "iday\n",
      "extended\n",
      "country\n",
      "country_txt\n",
      "region\n",
      "region_txt\n",
      "summary\n",
      "success\n",
      "attacktype1_txt\n",
      "targtype1_txt\n",
      "nkill\n",
      "nwound\n",
      "propextent_txt\n",
      "----------------\n",
      "None\n"
     ]
    }
   ],
   "source": [
    "def getAllColumns():\n",
    "  for frame in fullData:\n",
    "    print('----------------')\n",
    "    for col in frame.columns:\n",
    "      print(col)\n",
    "  print('----------------')\n",
    "print(getAllColumns())"
   ]
  },
  {
   "cell_type": "code",
   "execution_count": 24,
   "metadata": {},
   "outputs": [],
   "source": [
    "countries = [\n",
    "  'Canada',\n",
    "  'United States',\n",
    "  'Mexico',\n",
    "  'India',\n",
    "  'China',\n",
    "  'Sudan',\n",
    "  'Bangladesh',\n",
    "  'Brazil',\n",
    "  'Niger',\n",
    "]\n",
    "\n",
    "columns = [\n",
    "  'eventid',\n",
    "  'iyear',\n",
    "  'imonth',\n",
    "  'iday',\n",
    "  'country',\n",
    "  'country_txt',\n",
    "  'region_txt',\n",
    "  'success',\n",
    "  'attacktype1_txt',\n",
    "  'targtype1_txt',\n",
    "  'nkill',\n",
    "  'nwound',\n",
    "  'propextent_txt',\n",
    "  'summary'\n",
    "]"
   ]
  },
  {
   "cell_type": "code",
   "execution_count": 25,
   "metadata": {},
   "outputs": [
    {
     "name": "stderr",
     "output_type": "stream",
     "text": [
      "/var/folders/2q/fdhnk9_52r31j6_fbfqkynkw0000gn/T/ipykernel_57092/2468490835.py:9: FutureWarning: Index.__or__ operating as a set operation is deprecated, in the future this will be a logical operation matching Series.__or__.  Use index.union(other) instead\n",
      "  attack_type = (selected_data[selected_data['attacktype1_txt'] == \"Unknown\"].index) | selected_data[selected_data['attacktype1_txt'] == \"\"].index\n",
      "/var/folders/2q/fdhnk9_52r31j6_fbfqkynkw0000gn/T/ipykernel_57092/2468490835.py:18: FutureWarning: Index.__or__ operating as a set operation is deprecated, in the future this will be a logical operation matching Series.__or__.  Use index.union(other) instead\n",
      "  damage = (selected_data[selected_data['propextent_txt'] == \"Unknown\"].index) | (selected_data[selected_data['propextent_txt'].isnull()].index)\n",
      "/var/folders/2q/fdhnk9_52r31j6_fbfqkynkw0000gn/T/ipykernel_57092/2468490835.py:21: FutureWarning: Index.__or__ operating as a set operation is deprecated, in the future this will be a logical operation matching Series.__or__.  Use index.union(other) instead\n",
      "  affected = (selected_data[selected_data['nkill'].isnull()].index) | (selected_data[selected_data['nwound'].isnull()].index)\n"
     ]
    }
   ],
   "source": [
    "selected_data = pd.DataFrame(columns = columns)\n",
    "\n",
    "for country in countries:\n",
    "    current_info = data.loc[data['country_txt'] == country]\n",
    "    current_info = current_info.loc[data['iyear'].between(2005, 2020)]\n",
    "    selected_data = pd.concat((selected_data, current_info[columns]))\n",
    "\n",
    "#ignore data with missing attack type\n",
    "attack_type = (selected_data[selected_data['attacktype1_txt'] == \"Unknown\"].index) | selected_data[selected_data['attacktype1_txt'] == \"\"].index\n",
    "selected_data.drop(attack_type, inplace=True)\n",
    "\n",
    "# only take data of sucessfull attacks (val = 1), so ignore val = 0\n",
    "success = selected_data[selected_data['success'] == 0].index\n",
    "selected_data.drop(success, inplace=True)\n",
    "\n",
    "# only take catastrophic and major property damage events\n",
    "# damage = (selected_data[selected_data['propextent_txt'] == \"Minor (likely < $1 million)\"].index) | (selected_data[selected_data['propextent_txt'] == \"Unknown\"].index) | (selected_data[selected_data['propextent_txt'].isnull()].index) \n",
    "damage = (selected_data[selected_data['propextent_txt'] == \"Unknown\"].index) | (selected_data[selected_data['propextent_txt'].isnull()].index) \n",
    "selected_data.drop(damage, inplace=True)\n",
    "\n",
    "affected = (selected_data[selected_data['nkill'].isnull()].index) | (selected_data[selected_data['nwound'].isnull()].index) \n",
    "selected_data.drop(affected, inplace=True)\n",
    "\n",
    "selected_data = selected_data.drop([\"success\"], axis=1)\n",
    "selected_data = selected_data.drop([\"propextent_txt\"], axis=1)\n",
    "\n",
    "selected_data.to_csv(path_or_buf=f'./seed_data/Terrorism_seed.csv', index=False)"
   ]
  }
 ],
 "metadata": {
  "interpreter": {
   "hash": "aee8b7b246df8f9039afb4144a1f6fd8d2ca17a180786b69acc140d282b71a49"
  },
  "kernelspec": {
   "display_name": "Python 3.9.7 64-bit",
   "language": "python",
   "name": "python3"
  },
  "language_info": {
   "codemirror_mode": {
    "name": "ipython",
    "version": 3
   },
   "file_extension": ".py",
   "mimetype": "text/x-python",
   "name": "python",
   "nbconvert_exporter": "python",
   "pygments_lexer": "ipython3",
   "version": "3.9.7"
  },
  "orig_nbformat": 4
 },
 "nbformat": 4,
 "nbformat_minor": 2
}
