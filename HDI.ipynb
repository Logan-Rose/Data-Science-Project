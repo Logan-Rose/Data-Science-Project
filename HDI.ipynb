{
 "cells": [
  {
   "cell_type": "code",
   "execution_count": 12,
   "metadata": {},
   "outputs": [],
   "source": [
    "import pandas as pd\n",
    "\n",
    "data = pd.read_csv('./data/HDI.csv')"
   ]
  },
  {
   "cell_type": "code",
   "execution_count": 13,
   "metadata": {},
   "outputs": [],
   "source": [
    "countries = [\n",
    "  ' Canada',\n",
    "  ' United States',\n",
    "  ' Mexico',\n",
    "  ' India',\n",
    "  ' China',\n",
    "  ' Sudan',\n",
    "  ' Bangladesh',\n",
    "  ' Brazil',\n",
    "  ' Niger',\n",
    "]\n",
    "\n",
    "columns = [\n",
    "  'HDI Rank',\n",
    "  'Country',\n",
    "  '2005',\n",
    "  '2006',\n",
    "  '2007',\n",
    "  '2008',\n",
    "  '2009',\n",
    "  '2010',\n",
    "  '2011',\n",
    "  '2012',\n",
    "  '2013',\n",
    "  '2014',\n",
    "  '2015',\n",
    "  '2016',\n",
    "  '2017',\n",
    "  '2018',\n",
    "  '2019',\n",
    "  '2020'\n",
    "]"
   ]
  },
  {
   "cell_type": "code",
   "execution_count": 14,
   "metadata": {},
   "outputs": [
    {
     "name": "stderr",
     "output_type": "stream",
     "text": [
      "/var/folders/2q/fdhnk9_52r31j6_fbfqkynkw0000gn/T/ipykernel_52537/3735976994.py:5: SettingWithCopyWarning: \n",
      "A value is trying to be set on a copy of a slice from a DataFrame.\n",
      "Try using .loc[row_indexer,col_indexer] = value instead\n",
      "\n",
      "See the caveats in the documentation: https://pandas.pydata.org/pandas-docs/stable/user_guide/indexing.html#returning-a-view-versus-a-copy\n",
      "  current_info['2020'] = current_info['2019']\n"
     ]
    }
   ],
   "source": [
    "selected_data = pd.DataFrame(columns = columns)\n",
    "\n",
    "for country in countries:\n",
    "    current_info = data.loc[data['Country'] == country]\n",
    "    current_info['2020'] = current_info['2019']\n",
    "    selected_data = pd.concat((selected_data, current_info[columns]))\n",
    "\n",
    "selected_data.to_csv(path_or_buf=f'./seed_data/HDI_seed.csv', index=False)"
   ]
  }
 ],
 "metadata": {
  "interpreter": {
   "hash": "aee8b7b246df8f9039afb4144a1f6fd8d2ca17a180786b69acc140d282b71a49"
  },
  "kernelspec": {
   "display_name": "Python 3.9.7 64-bit",
   "language": "python",
   "name": "python3"
  },
  "language_info": {
   "codemirror_mode": {
    "name": "ipython",
    "version": 3
   },
   "file_extension": ".py",
   "mimetype": "text/x-python",
   "name": "python",
   "nbconvert_exporter": "python",
   "pygments_lexer": "ipython3",
   "version": "3.9.7"
  },
  "orig_nbformat": 4
 },
 "nbformat": 4,
 "nbformat_minor": 2
}
