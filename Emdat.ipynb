{
 "cells": [
  {
   "cell_type": "code",
   "execution_count": 1,
   "metadata": {},
   "outputs": [
    {
     "name": "stderr",
     "output_type": "stream",
     "text": [
      "C:\\Users\\Jonathan\\miniconda3\\envs\\csi4106\\lib\\site-packages\\IPython\\core\\interactiveshell.py:3444: DtypeWarning: Columns (24,25) have mixed types.Specify dtype option on import or set low_memory=False.\n",
      "  exec(code_obj, self.user_global_ns, self.user_ns)\n"
     ]
    }
   ],
   "source": [
    "import pandas as pd\n",
    "\n",
    "\n",
    "data = pd.read_csv('./data/emdat_public_2022_01_31.csv')\n",
    "\n",
    "\n"
   ]
  },
  {
   "cell_type": "code",
   "execution_count": null,
   "metadata": {},
   "outputs": [],
   "source": []
  },
  {
   "cell_type": "code",
   "execution_count": 2,
   "metadata": {},
   "outputs": [],
   "source": [
    "countries = [\n",
    "  'Canada',\n",
    "  'United States of America (the)',\n",
    "  'Mexico',\n",
    "  'India',\n",
    "  'China',\n",
    "  'Sudan',\n",
    "  'Bangladesh',\n",
    "  'Brazil',\n",
    "  'Niger'\n",
    "]\n",
    "\n",
    "columns = [\n",
    "  'Dis No',\n",
    "  'Country',\n",
    "  'Start Year',\n",
    "  'Start Month',\n",
    "  'Start Day',\n",
    "  'End Year',\n",
    "  'End Month',\n",
    "  'End Day',\n",
    "  'Disaster Group',\n",
    "  'Disaster Subgroup',\n",
    "  'Disaster Type',\n",
    "  'Disaster Subtype',\n",
    "  'Total Affected',\n",
    "  'Total Deaths',\n",
    "  \n",
    "]"
   ]
  },
  {
   "cell_type": "code",
   "execution_count": 3,
   "metadata": {},
   "outputs": [],
   "source": [
    "\n",
    "selected_data = pd.DataFrame(columns = columns)\n",
    "\n",
    "for country in countries:\n",
    "    current_info = data.loc[data['Country'] == country]\n",
    "    current_info = current_info.loc[data['Start Year'].between(2005, 2020)]\n",
    "    selected_data = pd.concat((selected_data, current_info[columns]))\n",
    "selected_data.to_csv(path_or_buf=f'./seed_data/Disasters_seed.csv')\n"
   ]
  }
 ],
 "metadata": {
  "interpreter": {
   "hash": "876c78567674b0e0e7cd3f60a7ddd4384a6ee26066c3b18ab285600f0d9d856a"
  },
  "kernelspec": {
   "display_name": "Python 3.9.4 ('csi4106')",
   "language": "python",
   "name": "python3"
  },
  "language_info": {
   "codemirror_mode": {
    "name": "ipython",
    "version": 3
   },
   "file_extension": ".py",
   "mimetype": "text/x-python",
   "name": "python",
   "nbconvert_exporter": "python",
   "pygments_lexer": "ipython3",
   "version": "3.9.4"
  },
  "orig_nbformat": 4
 },
 "nbformat": 4,
 "nbformat_minor": 2
}
