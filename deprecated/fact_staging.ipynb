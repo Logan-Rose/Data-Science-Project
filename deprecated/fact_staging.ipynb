{
 "cells": [
  {
   "cell_type": "code",
   "execution_count": 11,
   "metadata": {},
   "outputs": [],
   "source": [
    "import pandas as pd\n",
    "import datetime\n",
    "import warnings\n",
    "warnings.simplefilter(action='ignore', category=FutureWarning)\n",
    "\n",
    "import pandas\n",
    "# Do I use index columns?? Not sure!\n",
    "# dates = pd.read_csv('./seed_data/date_seed.csv', index_col=0)\n",
    "dates = pd.read_csv('./seed_data/date_seed.csv')\n",
    "events = pd.read_csv('./seed_data/Events_seed.csv')\n",
    "education = pd.read_csv('./seed_data/Education_seed.csv')\n",
    "health = pd.read_csv('./seed_data/Health_seed.csv')\n",
    "population = pd.read_csv('./seed_data/Population_seed.csv')\n",
    "qualityOfLife = pd.read_csv('./seed_data/Quality_of_life_seed.csv')\n",
    "countries = pd.read_csv('./seed_data/countries_seed.csv')\n",
    "\n",
    "\n",
    "fact_columns = [\n",
    "  'index',\n",
    "  'country_key',\n",
    "  'date_key',\n",
    "  'education_key',\n",
    "  'health_key',\n",
    "  'quality_of_life_key',\n",
    "  'event_key',\n",
    "]\n",
    "\n",
    "def extractKey(key):\n",
    "  if len(key) ==0:\n",
    "    return None\n",
    "  else:\n",
    "    return key[0]\n",
    "\n",
    "def checkDate(start_year, start_month, end_year, end_month, current_year, current_month):\n",
    "  if start_year == end_year == current_year:\n",
    "    if current_month >= start_month and current_month <= end_month:\n",
    "      return True\n",
    "  elif start_year == current_year:\n",
    "    if current_month >= start_month:\n",
    "      return True\n",
    "  elif end_year == current_year:\n",
    "    if current_month <= end_month:\n",
    "      return True\n",
    "  elif current_year > start_year and current_year < end_year:\n",
    "    return True\n",
    "  return False\n"
   ]
  },
  {
   "cell_type": "code",
   "execution_count": 19,
   "metadata": {},
   "outputs": [
    {
     "name": "stdout",
     "output_type": "stream",
     "text": [
      "   index  country_key  date_key                         education_key  \\\n",
      "0      0            2         1  3ffdb164-3054-45ce-9270-3491097a0463   \n",
      "0      1            3         1  ce233891-4d4b-4807-a0cc-65136a54569b   \n",
      "0      2            3         1  ce233891-4d4b-4807-a0cc-65136a54569b   \n",
      "0      3            4         1  32c4c23b-4970-47e0-91ec-e2b517455767   \n",
      "0      4            4         1  32c4c23b-4970-47e0-91ec-e2b517455767   \n",
      "\n",
      "                             health_key                   quality_of_life_key  \\\n",
      "0  3f00c019-7956-4025-8e8a-f099863d2810  4f0b2a72-e940-4a07-b44e-0ebe8ace0945   \n",
      "0  eeb7feda-4eeb-4950-9a62-c8ad0cb493df  ee605e03-3e69-436a-802a-9aa7aafcf571   \n",
      "0  eeb7feda-4eeb-4950-9a62-c8ad0cb493df  ee605e03-3e69-436a-802a-9aa7aafcf571   \n",
      "0  25da4aa5-6f7e-4d74-92b5-1f3e70af58e3  856bb516-79d4-4a2e-a812-2cf33ba2a0a8   \n",
      "0  25da4aa5-6f7e-4d74-92b5-1f3e70af58e3  856bb516-79d4-4a2e-a812-2cf33ba2a0a8   \n",
      "\n",
      "       event_key  \n",
      "0  2005-0006-MEX  \n",
      "0  2005-0012-IND  \n",
      "0  2005-0043-IND  \n",
      "0  2004-0515-CHN  \n",
      "0  2005-0002-CHN  \n",
      "['index', 'country_key', 'date_key', 'education_key', 'health_key', 'quality_of_life_key', 'event_key']\n"
     ]
    }
   ],
   "source": [
    "facts = pd.DataFrame( )\n",
    "index = 0\n",
    "for date_index in dates.index:\n",
    "  for country_index in countries.index:\n",
    "    country_code = countries['Country Code'][country_index]\n",
    "    country_name = countries['Short Name'][country_index]\n",
    "    year = dates['year'][date_index]\n",
    "    month = dates['month_number'][date_index]\n",
    "    education_key = extractKey(education[(education['alpha_code']==country_code) & (education['Year']==year)]['key'].values)\n",
    "    health_key = extractKey(health[(health['alpha_code']==country_code) & (health['Year']==year)]['key'].values)\n",
    "    quality_of_life_key = extractKey(qualityOfLife[(qualityOfLife['alpha_code']==country_code) & (qualityOfLife['Year']==year)]['key'].values)\n",
    "    population_key = extractKey(population[(population['alpha_code']==country_code) & (population['Year']==year)]['key'].values)\n",
    "    \n",
    "    country_events = events[events['Country']==country_name]\n",
    "    current_events = []\n",
    "    for event_index in country_events.index:\n",
    "      if checkDate(country_events['start_year'][event_index],country_events['start_month'][event_index],country_events['end_year'][event_index],country_events['end_month'][event_index], year, month):\n",
    "        current_events.append(country_events['key'][event_index])\n",
    "    \n",
    "    for event_key in current_events:\n",
    "      facts = facts.append(pd.DataFrame([[index, country_index, date_index,education_key, health_key,quality_of_life_key,event_key]], columns=fact_columns))\n",
    "      index += 1\n",
    "print(facts.head())\n",
    "print(fact_columns)\n",
    "facts.to_csv(path_or_buf=f'./seed_data/Facts.csv', index=False) \n",
    "      #   selected_data_imputed.insert(0, 'key', [i for i in range(len(selected_data_imputed.index))])\n",
    "\n",
    "# \n",
    "# "
   ]
  }
 ],
 "metadata": {
  "interpreter": {
   "hash": "367e97bd1bb993270875333a5c0c0ed703268d8b20e00e99d22f213f8fc7c5a0"
  },
  "kernelspec": {
   "display_name": "Python 3.8.12 ('csi4106')",
   "language": "python",
   "name": "python3"
  },
  "language_info": {
   "codemirror_mode": {
    "name": "ipython",
    "version": 3
   },
   "file_extension": ".py",
   "mimetype": "text/x-python",
   "name": "python",
   "nbconvert_exporter": "python",
   "pygments_lexer": "ipython3",
   "version": "3.8.12"
  },
  "orig_nbformat": 4
 },
 "nbformat": 4,
 "nbformat_minor": 2
}
