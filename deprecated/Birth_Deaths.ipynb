{
 "cells": [
  {
   "cell_type": "code",
   "execution_count": 4,
   "metadata": {},
   "outputs": [],
   "source": [
    "import pandas as pd\n",
    "\n",
    "births = pd.read_csv('../data/annual-number-of-births-by-world-region.csv')\n",
    "deaths = pd.read_csv('../data/annual-number-of-deaths-by-world-region.csv')\n"
   ]
  },
  {
   "cell_type": "code",
   "execution_count": 7,
   "metadata": {},
   "outputs": [],
   "source": [
    "countries = [\n",
    "  'Canada',\n",
    "  'United States',\n",
    "  'Mexico',\n",
    "  'India',\n",
    "  'China',\n",
    "  'Sudan',\n",
    "  'Bangladesh',\n",
    "  'Brazil',\n",
    "  'Niger',\n",
    "]\n",
    "\n",
    "b_columns = [\n",
    "    'Entity',\n",
    "    'Code',\n",
    "    'Year',\n",
    "    'Estimates, 1950 - 2020: Annually interpolated demographic indicators - Births (thousands)'\n",
    "]\n",
    "\n",
    "d_columns = [\n",
    "    'Entity',\n",
    "    'Code',\n",
    "    'Year',\n",
    "    'Estimates, 1950 - 2020: Annually interpolated demographic indicators - Deaths (thousands)'\n",
    "]"
   ]
  },
  {
   "cell_type": "code",
   "execution_count": 8,
   "metadata": {},
   "outputs": [],
   "source": [
    "selected_data = pd.DataFrame(columns = b_columns)\n",
    "\n",
    "for country in countries:\n",
    "    current_info = births.loc[births['Entity'] == country]\n",
    "    current_info = current_info.loc[births['Year'].between(2005, 2020)]\n",
    "    selected_data = pd.concat((selected_data, current_info[b_columns]))\n",
    "\n",
    "# Rename\n",
    "selected_data.rename(columns={'Entity': 'Country', 'Code': 'Country Code', 'Estimates, 1950 - 2020: Annually interpolated demographic indicators - Births (thousands)': 'Births (thousands)'}, inplace=True)\n",
    "\n",
    "\n",
    "selected_data.to_csv(path_or_buf=f'../seed_data/Num_births_seed.csv', index=False)"
   ]
  },
  {
   "cell_type": "code",
   "execution_count": 9,
   "metadata": {},
   "outputs": [],
   "source": [
    "selected_data = pd.DataFrame(columns = d_columns)\n",
    "\n",
    "for country in countries:\n",
    "    current_info = deaths.loc[deaths['Entity'] == country]\n",
    "    current_info = current_info.loc[deaths['Year'].between(2005, 2020)]\n",
    "    selected_data = pd.concat((selected_data, current_info[d_columns]))\n",
    "\n",
    "\n",
    "# Rename\n",
    "selected_data.rename(columns={'Entity': 'Country', 'Code': 'Country Code', 'Estimates, 1950 - 2020: Annually interpolated demographic indicators - Deaths (thousands)': 'Deaths (thousands)'}, inplace=True)\n",
    "\n",
    "selected_data.to_csv(path_or_buf=f'../seed_data/Num_deaths_seed.csv', index=False)"
   ]
  }
 ],
 "metadata": {
  "interpreter": {
   "hash": "aee8b7b246df8f9039afb4144a1f6fd8d2ca17a180786b69acc140d282b71a49"
  },
  "kernelspec": {
   "display_name": "Python 3.9.7 64-bit",
   "language": "python",
   "name": "python3"
  },
  "language_info": {
   "codemirror_mode": {
    "name": "ipython",
    "version": 3
   },
   "file_extension": ".py",
   "mimetype": "text/x-python",
   "name": "python",
   "nbconvert_exporter": "python",
   "pygments_lexer": "ipython3",
   "version": "3.9.7"
  },
  "orig_nbformat": 4
 },
 "nbformat": 4,
 "nbformat_minor": 2
}
