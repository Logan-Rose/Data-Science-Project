{
 "cells": [
  {
   "cell_type": "code",
   "execution_count": 1,
   "metadata": {},
   "outputs": [],
   "source": [
    "import pandas as pd\n",
    "import uuid\n",
    "from countryinfo import CountryInfo\n",
    "import pycountry_convert as pc\n",
    "\n",
    "countries_info = pd.read_csv('./data/HNP_StatsCountry.csv')\n",
    "countries_stats = pd.read_csv('./data/HNP_StatsData.csv')"
   ]
  },
  {
   "cell_type": "code",
   "execution_count": 2,
   "metadata": {},
   "outputs": [],
   "source": [
    "countries = [\n",
    "  'CAN',\n",
    "  'USA',\n",
    "  'MEX',\n",
    "  'IND',\n",
    "  'CHN',\n",
    "  'SDN',\n",
    "  'BGD',\n",
    "  'BRA',\n",
    "  'NER'\n",
    "]\n",
    "columns = [\n",
    "  \"Long Name\",\n",
    "  \"Short Name\",\n",
    "  \"Country Code\",\n",
    "  \"Region\",\n",
    "  # Continent     +\n",
    "  # Population-----------------\n",
    "  \"Currency Unit\",\n",
    "  # Capital\n",
    "  # birth rate-----------------\n",
    "  # sex ratio at birth-----------------\n",
    "  # Number of languages\n",
    "  # area     +\n",
    "  \"Income Group\",\n",
    "  # GNI CAPITA-------------\n",
    "  \"Latest population census\"  \n",
    "]\n"
   ]
  },
  {
   "cell_type": "code",
   "execution_count": 3,
   "metadata": {},
   "outputs": [
    {
     "name": "stdout",
     "output_type": "stream",
     "text": [
      "Index(['Long Name', 'Short Name', 'Country Code', 'Region', 'Currency Unit',\n",
      "       'Income Group', 'Latest population census', 'continent', 'capital',\n",
      "       'area', 'num_languages'],\n",
      "      dtype='object')\n",
      "     key                        Long Name     Short Name Country Code  \\\n",
      "35     0                           Canada         Canada          CAN   \n",
      "250    1         United States of America  United States          USA   \n",
      "153    2            United Mexican States         Mexico          MEX   \n",
      "109    3                Republic of India          India          IND   \n",
      "40     4       People's Republic of China          China          CHN   \n",
      "205    5            Republic of the Sudan          Sudan          SDN   \n",
      "20     6  People's Republic of Bangladesh     Bangladesh          BGD   \n",
      "29     7    Federative Republic of Brazil         Brazil          BRA   \n",
      "172    8                Republic of Niger          Niger          NER   \n",
      "\n",
      "                        Region           Currency Unit         Income Group  \\\n",
      "35               North America         Canadian dollar          High income   \n",
      "250              North America             U.S. dollar          High income   \n",
      "153  Latin America & Caribbean            Mexican peso  Upper middle income   \n",
      "109                 South Asia            Indian rupee  Lower middle income   \n",
      "40         East Asia & Pacific            Chinese yuan  Upper middle income   \n",
      "205         Sub-Saharan Africa          Sudanese pound           Low income   \n",
      "20                  South Asia        Bangladeshi taka  Lower middle income   \n",
      "29   Latin America & Caribbean          Brazilian real  Upper middle income   \n",
      "172         Sub-Saharan Africa  West African CFA franc           Low income   \n",
      "\n",
      "    Latest population census continent          capital     area  \\\n",
      "35                      2016        NA           Ottawa  9984670   \n",
      "250          2020 (expected)        NA  Washington D.C.  9629091   \n",
      "153          2020 (expected)        NA      Mexico City  1964375   \n",
      "109                     2011        AS        New Delhi  3287590   \n",
      "40           2020 (expected)        AS          Beijing  9640011   \n",
      "205          2020 (expected)        AF         Khartoum  1886068   \n",
      "20                      2011        AS            Dhaka   147570   \n",
      "29           2020 (expected)        SA         Brasília  8515767   \n",
      "172                     2012        AF           Niamey  1267000   \n",
      "\n",
      "     num_languages  \n",
      "35               2  \n",
      "250              1  \n",
      "153              1  \n",
      "109              2  \n",
      "40               1  \n",
      "205              2  \n",
      "20               1  \n",
      "29               1  \n",
      "172              1  \n"
     ]
    }
   ],
   "source": [
    "selected_data = pd.DataFrame()\n",
    "for country in countries:\n",
    "  current_info = countries_info.loc[countries_info['Country Code'] == country][columns]\n",
    "\n",
    "  alpha =countries_info.loc[countries_info['Country Code'] == country][\"2-alpha code\"].values[0]\n",
    "  continent = pc.country_alpha2_to_continent_code(alpha)\n",
    "  \n",
    "  current_countryInfo = CountryInfo(alpha)\n",
    "  capital = current_countryInfo.capital()\n",
    "  area = current_countryInfo.area()\n",
    "  numLanguages = len(current_countryInfo.languages())\n",
    "\n",
    "  current_info.insert(len(current_info.columns),'continent', continent)\n",
    "  current_info.insert(len(current_info.columns),'capital', capital)\n",
    "  current_info.insert(len(current_info.columns),'area', area)\n",
    "  current_info.insert(len(current_info.columns),'num_languages', numLanguages)\n",
    "  selected_data = pd.concat((selected_data, current_info))\n",
    "\n",
    "print(selected_data.columns)\n",
    "selected_data.insert(0, 'key', [i for i in range(len(selected_data.index))])\n",
    "selected_data.to_csv(path_or_buf=f'./seed_data/countries_seed.csv', columns=selected_data.columns, index=False) \n",
    "print(selected_data) "
   ]
  }
 ],
 "metadata": {
  "interpreter": {
   "hash": "367e97bd1bb993270875333a5c0c0ed703268d8b20e00e99d22f213f8fc7c5a0"
  },
  "kernelspec": {
   "display_name": "Python 3.8.12 ('csi4106')",
   "language": "python",
   "name": "python3"
  },
  "language_info": {
   "codemirror_mode": {
    "name": "ipython",
    "version": 3
   },
   "file_extension": ".py",
   "mimetype": "text/x-python",
   "name": "python",
   "nbconvert_exporter": "python",
   "pygments_lexer": "ipython3",
   "version": "3.8.12"
  },
  "orig_nbformat": 4
 },
 "nbformat": 4,
 "nbformat_minor": 2
}
