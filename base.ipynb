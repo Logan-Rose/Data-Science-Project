{
 "cells": [
  {
   "cell_type": "code",
   "execution_count": 1,
   "metadata": {},
   "outputs": [
    {
     "name": "stderr",
     "output_type": "stream",
     "text": [
      "/tmp/ipykernel_183084/4229942640.py:10: DtypeWarning: Columns (24,25) have mixed types. Specify dtype option on import or set low_memory=False.\n",
      "  catastrophes = pd.read_csv('./data/emdat_public_2022_01_31.csv')\n"
     ]
    }
   ],
   "source": [
    "import pandas as pd\n",
    "\n",
    "\n",
    "countries = pd.read_csv('./data/HNP_StatsCountry.csv')\n",
    "countrySeries = pd.read_csv('./data/HNP_StatsCountry-Series.csv')\n",
    "data = pd.read_csv('./data/HNP_StatsData.csv')\n",
    "footNote = pd.read_csv('./data/HNP_StatsFootNote.csv')\n",
    "seriesTime = pd.read_csv('./data/HNP_StatsSeries-Time.csv')\n",
    "series = pd.read_csv('./data/HNP_StatsSeries.csv')\n",
    "catastrophes = pd.read_csv('./data/emdat_public_2022_01_31.csv')\n",
    "electoralViolence = pd.read_csv('./data/ucdp-prio-acd-211.csv')\n",
    "\n",
    "fullData = [\n",
    "  countries,\n",
    "  countrySeries,\n",
    "  data,\n",
    "  footNote,\n",
    "  seriesTime,\n",
    "  series,\n",
    "  catastrophes\n",
    "]"
   ]
  },
  {
   "cell_type": "code",
   "execution_count": null,
   "metadata": {},
   "outputs": [],
   "source": [
    "def getAllColumns():\n",
    "  for frame in fullData:\n",
    "    print('----------------')\n",
    "    for col in frame.columns:\n",
    "      print(col)\n",
    "  print('----------------')\n",
    "print(getAllColumns())"
   ]
  },
  {
   "cell_type": "code",
   "execution_count": null,
   "metadata": {},
   "outputs": [],
   "source": [
    "def getTopics():\n",
    "  column_values = series[[\"Topic\"]].values.ravel()\n",
    "  unique_values =  pd.unique(column_values)\n",
    "  print(unique_values)\n",
    "\n",
    "print(getTopics())"
   ]
  },
  {
   "cell_type": "code",
   "execution_count": null,
   "metadata": {},
   "outputs": [],
   "source": [
    "def getStats():\n",
    "  for col in data.columns:\n",
    "    print(col)\n",
    "\n",
    "print(data['Indicator Name'].unique())"
   ]
  },
  {
   "cell_type": "code",
   "execution_count": null,
   "metadata": {},
   "outputs": [],
   "source": [
    "def getIndicators(topics):\n",
    "  healthStats = series.loc[series['Topic'].isin(topics)]\n",
    "  column_values = healthStats[[\"Indicator Name\"]].values.ravel()\n",
    "  unique_values =  pd.unique(column_values)\n",
    "  print(unique_values)\n",
    "\n",
    "healthIndicatorTopics = ['Non-communicable diseases', 'Nutrition', 'HIV/AIDS', 'Reproductive health', 'Water and sanitation', 'Immunization', 'Medical resources and usage' 'Infectious diseases' 'Health financing', 'Background: Poverty']\n",
    "\n",
    "#getIndicators(healthIndicatorTopics)\n",
    "\n",
    "for col in electoralViolence.columns:\n",
    "   print(col)"
   ]
  },
  {
   "cell_type": "code",
   "execution_count": 25,
   "metadata": {},
   "outputs": [
    {
     "name": "stdout",
     "output_type": "stream",
     "text": [
      "Empty DataFrame\n",
      "Columns: [Country Name, Country Code, Indicator Name, Indicator Code, 1960, 1961, 1962, 1963, 1964, 1965, 1966, 1967, 1968, 1969, 1970, 1971, 1972, 1973, 1974, 1975, 1976, 1977, 1978, 1979, 1980, 1981, 1982, 1983, 1984, 1985, 1986, 1987, 1988, 1989, 1990, 1991, 1992, 1993, 1994, 1995, 1996, 1997, 1998, 1999, 2000, 2001, 2002, 2003, 2004, 2005, 2006, 2007, 2008, 2009, 2010, 2011, 2012, 2013, 2014, 2015, 2016, 2017, 2018, 2019, 2020, 2021, Unnamed: 66]\n",
      "Index: []\n",
      "\n",
      "[0 rows x 67 columns]\n"
     ]
    }
   ],
   "source": [
    "countries = [\n",
    "  'CAN',\n",
    "  'USA',\n",
    "  'MEX',\n",
    "  'IND',\n",
    "  'CHN',\n",
    "  'AFG',\n",
    "  'BGD',\n",
    "  'BRA',\n",
    "  'HTI'\n",
    "]\n",
    "\n",
    "education_keys = [\n",
    "'SE.ADT.LITR.ZS',\n",
    "'SE.ADT.LITR.FE.ZS',\n",
    "'SE.ADT.LITR.MA.ZS',\n",
    "'SE.PRM.ENRR',\n",
    "'SE.PRM.ENRR.FE',\n",
    "'SE.PRM.ENRR.MA',\n",
    "'SE.SEC.ENRR',\n",
    "'SE.SEC.ENRR.FE',\n",
    "'SE.PRM.ENRR',\n",
    "'SE.XPD.TOTL.GD.ZS',\n",
    "'SE.PRM.CMPT.FE.ZS',\n",
    "'SE.PRM.CMPT.MA.ZS',\n",
    "'SE.PRM.CMPT.ZS',\n",
    "]\n",
    "\n",
    "tables = {'Education': education_keys}\n",
    "\n",
    "\n",
    "selected_data = pd.DataFrame(columns=data.columns)\n",
    "print(selected_data)\n",
    "for country in countries:\n",
    "  current_info = data.loc[data['Country Code'] == country]\n",
    "  current_info = current_info.loc[data['Indicator Code'].isin(education_keys)]\n",
    "  selected_data = pd.concat((selected_data, current_info))\n",
    "selected_data.to_csv(path_or_buf=\"./text.csv\")\n"
   ]
  }
 ],
 "metadata": {
  "interpreter": {
   "hash": "916dbcbb3f70747c44a77c7bcd40155683ae19c65e1c03b4aa3499c5328201f1"
  },
  "kernelspec": {
   "display_name": "Python 3.8.10 64-bit",
   "language": "python",
   "name": "python3"
  },
  "language_info": {
   "codemirror_mode": {
    "name": "ipython",
    "version": 3
   },
   "file_extension": ".py",
   "mimetype": "text/x-python",
   "name": "python",
   "nbconvert_exporter": "python",
   "pygments_lexer": "ipython3",
   "version": "3.8.10"
  },
  "orig_nbformat": 4
 },
 "nbformat": 4,
 "nbformat_minor": 2
}
