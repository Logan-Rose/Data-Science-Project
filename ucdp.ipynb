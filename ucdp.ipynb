{
 "cells": [
  {
   "cell_type": "code",
   "execution_count": 66,
   "metadata": {},
   "outputs": [],
   "source": [
    "import pandas as pd\n",
    "\n",
    "data = pd.read_csv('./data/ucdp-prio-acd-211.csv')"
   ]
  },
  {
   "cell_type": "code",
   "execution_count": 67,
   "metadata": {},
   "outputs": [
    {
     "name": "stderr",
     "output_type": "stream",
     "text": [
      "/var/folders/2q/fdhnk9_52r31j6_fbfqkynkw0000gn/T/ipykernel_10114/19934126.py:28: SettingWithCopyWarning: \n",
      "A value is trying to be set on a copy of a slice from a DataFrame.\n",
      "Try using .loc[row_indexer,col_indexer] = value instead\n",
      "\n",
      "See the caveats in the documentation: https://pandas.pydata.org/pandas-docs/stable/user_guide/indexing.html#returning-a-view-versus-a-copy\n",
      "  current_info['start_date'] = pd.to_datetime(current_info['start_date'])\n",
      "/var/folders/2q/fdhnk9_52r31j6_fbfqkynkw0000gn/T/ipykernel_10114/19934126.py:29: SettingWithCopyWarning: \n",
      "A value is trying to be set on a copy of a slice from a DataFrame.\n",
      "Try using .loc[row_indexer,col_indexer] = value instead\n",
      "\n",
      "See the caveats in the documentation: https://pandas.pydata.org/pandas-docs/stable/user_guide/indexing.html#returning-a-view-versus-a-copy\n",
      "  current_info['ep_end_date'] = pd.to_datetime(current_info['ep_end_date'])\n"
     ]
    }
   ],
   "source": [
    "countries = [\n",
    "  'Canada',\n",
    "  'United States of America',\n",
    "  'Mexico',\n",
    "  'India',\n",
    "  'China',\n",
    "  'Sudan',\n",
    "  'Bangladesh',\n",
    "  'Brazil',\n",
    "  'Niger'\n",
    "]\n",
    "\n",
    "columns = [\n",
    "  'conflict_id',\n",
    "  'location',\n",
    "  'region',\n",
    "  'start_date',\n",
    "  'ep_end_date',\n",
    "  'type_of_conflict',\n",
    "  'intensity_level'\n",
    "]\n",
    "\n",
    "selected_data = pd.DataFrame(columns = columns)\n",
    "\n",
    "\n",
    "for country in countries:\n",
    "  current_info = data.loc[data['location'] == country]\n",
    "  current_info['start_date'] = pd.to_datetime(current_info['start_date'])\n",
    "  current_info['ep_end_date'] = pd.to_datetime(current_info['ep_end_date'])\n",
    "  mask = (current_info['ep_end_date'] > '2005-01-01') & (current_info['ep_end_date'] <= '2020-01-01')\n",
    "  current_info = current_info.loc[mask]\n",
    "  selected_data = pd.concat((selected_data, current_info[columns]))\n",
    "selected_data.to_csv(path_or_buf=f'./seed_data/Electoral_conflict_seed.csv')\n"
   ]
  }
 ],
 "metadata": {
  "interpreter": {
   "hash": "aee8b7b246df8f9039afb4144a1f6fd8d2ca17a180786b69acc140d282b71a49"
  },
  "kernelspec": {
   "display_name": "Python 3.9.7 64-bit",
   "language": "python",
   "name": "python3"
  },
  "language_info": {
   "codemirror_mode": {
    "name": "ipython",
    "version": 3
   },
   "file_extension": ".py",
   "mimetype": "text/x-python",
   "name": "python",
   "nbconvert_exporter": "python",
   "pygments_lexer": "ipython3",
   "version": "3.9.7"
  },
  "orig_nbformat": 4
 },
 "nbformat": 4,
 "nbformat_minor": 2
}
