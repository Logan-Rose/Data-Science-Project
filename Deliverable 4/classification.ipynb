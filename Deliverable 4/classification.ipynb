{
 "cells": [
  {
   "cell_type": "markdown",
   "metadata": {},
   "source": [
    "Next, conduct supervised learning using a label of your own choice. That is, \n",
    "you are required to identify your own classification task. For instance, you may \n",
    "consider using one of the following attributes as your class label: Quality-of-\n",
    "Life, Development-Index, Human-Development-Index, Gender, Age-group, and \n",
    "so on. For instance, suppose you choose to focus on the Development-Index. In this case, you would construct data mining models that contrast the trends in \n",
    "the countries using class labels in {developed, developing and underdeveloped}. \n",
    " \n",
    "Complete the following steps: \n",
    "1.  (15 marks) Use the Decision Tree, Gradient Boosting and Random Forest \n",
    "algorithms to construct models against your data, following the so-called \n",
    "train-then-test, or holdout method.  \n",
    "2.  (20 marks) Compare the results of the three learning algorithms, in terms of \n",
    "(i) accuracy, (ii) precision, (iii) recall and (iv) time to construct the models. \n",
    "3.  (15 marks) Submit a 200 to 300 words summary explaining the actionable \n",
    "knowledge nuggets your team discovered. That is, you should explain what \n",
    "insights you obtained about the data, when investigating the models \n",
    "produced by the three algorithms. "
   ]
  },
  {
   "cell_type": "code",
   "execution_count": null,
   "metadata": {},
   "outputs": [],
   "source": []
  }
 ],
 "metadata": {
  "language_info": {
   "name": "python"
  },
  "orig_nbformat": 4
 },
 "nbformat": 4,
 "nbformat_minor": 2
}
