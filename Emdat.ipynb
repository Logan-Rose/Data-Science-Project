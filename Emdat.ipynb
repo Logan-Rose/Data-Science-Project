{
 "cells": [
  {
   "cell_type": "code",
   "execution_count": 12,
   "metadata": {},
   "outputs": [
    {
     "name": "stderr",
     "output_type": "stream",
     "text": [
      "/tmp/ipykernel_91489/1148030411.py:7: DtypeWarning: Columns (24,25) have mixed types. Specify dtype option on import or set low_memory=False.\n",
      "  data = pd.read_csv('./data/emdat_public_2022_01_31.csv')\n"
     ]
    }
   ],
   "source": [
    "import pandas as pd\n",
    "import json\n",
    "\n",
    "with open('keys.json') as json_file:\n",
    "    column_keys = json.load(json_file)\n",
    "\n",
    "data = pd.read_csv('./data/emdat_public_2022_01_31.csv')\n"
   ]
  },
  {
   "cell_type": "code",
   "execution_count": null,
   "metadata": {},
   "outputs": [],
   "source": [
    "countries = [\n",
    "  'Canada',\n",
    "  'United States of America (the)',\n",
    "  'Mexico',\n",
    "  'India',\n",
    "  'China',\n",
    "  'Sudan',\n",
    "  'Bangladesh',\n",
    "  'Brazil',\n",
    "  'Niger'\n",
    "]\n",
    "columns = [\n",
    "  'Dis No',\n",
    "  'Country',\n",
    "  'Start Year',\n",
    "  'Start Month',\n",
    "  'Start Day',\n",
    "  'End Year',\n",
    "  'End Month',\n",
    "  'End Day',\n",
    "  'Disaster Group',\n",
    "  'Disaster Subgroup',\n",
    "  'Disaster Type',\n",
    "  'Disaster Subtype',\n",
    "  'Total Affected',\n",
    "  'Total Deaths',  \n",
    "]"
   ]
  },
  {
   "cell_type": "code",
   "execution_count": 9,
   "metadata": {},
   "outputs": [
    {
     "name": "stdout",
     "output_type": "stream",
     "text": [
      "{'test': 'hello'}\n",
      "{'test': 'hello'}\n"
     ]
    }
   ],
   "source": [
    "print(data)"
   ]
  },
  {
   "cell_type": "code",
   "execution_count": 13,
   "metadata": {},
   "outputs": [],
   "source": [
    "\n",
    "selected_data = pd.DataFrame(columns = columns)\n",
    "\n",
    "for country in countries:\n",
    "    current_info = data.loc[data['Country'] == country]\n",
    "    current_info = current_info.loc[data['Start Year'].between(2005, 2020)]\n",
    "    selected_data = pd.concat((selected_data, current_info[columns]))\n",
    "\n",
    "\n",
    "# selected_data['Total Deaths'] = np.where((selected_data['Total Affected'] > 0) &  (selected_data['Total Deaths'].isna()), 0 , \"\" )\n",
    "#Fills in missing values in Total affected and Total deaths based off assumptions.\n",
    "selected_data.loc [(selected_data['Total Affected'] > 0) & (selected_data['Total Deaths'].isnull()), 'Total Deaths'] = 0\n",
    "selected_data.loc [(selected_data['Total Affected'].isnull()) & (selected_data['Total Deaths'].isnull()), 'Total Deaths'] = 0 \n",
    "selected_data.loc [(selected_data['Total Affected'].isnull()) & (selected_data['Total Deaths'].notnull()), 'Total Affected'] = selected_data['Total Deaths']\n",
    "selected_data.loc [(selected_data['Disaster Subtype'].isnull()), 'Disaster Subtype'] = \"None\"\n",
    "#Deletes columns with missing data in Start day\n",
    "indexs = selected_data[selected_data['Start Day'].isnull()].index\n",
    "selected_data.drop(indexs, inplace=True)\n",
    "\n",
    "\n",
    "selected_data = selected_data.rename(columns=column_keys)\n",
    "\n",
    "\n",
    "selected_data.to_csv(path_or_buf=f'./seed_data/Disasters_seed.csv', index=False)"
   ]
  }
 ],
 "metadata": {
  "interpreter": {
   "hash": "876c78567674b0e0e7cd3f60a7ddd4384a6ee26066c3b18ab285600f0d9d856a"
  },
  "kernelspec": {
   "display_name": "Python 3.9.4 ('csi4106')",
   "language": "python",
   "name": "python3"
  },
  "language_info": {
   "codemirror_mode": {
    "name": "ipython",
    "version": 3
   },
   "file_extension": ".py",
   "mimetype": "text/x-python",
   "name": "python",
   "nbconvert_exporter": "python",
   "pygments_lexer": "ipython3",
   "version": "3.8.10"
  },
  "orig_nbformat": 4
 },
 "nbformat": 4,
 "nbformat_minor": 2
}
