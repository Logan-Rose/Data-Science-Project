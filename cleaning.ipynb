{
 "cells": [
  {
   "cell_type": "code",
   "execution_count": 121,
   "metadata": {},
   "outputs": [],
   "source": [
    "import numpy as np\n",
    "import matplotlib.pyplot as plt\n",
    "import pandas as pd\n",
    "import math\n",
    "from sklearn.linear_model import LinearRegression\n",
    "from sklearn.impute import SimpleImputer"
   ]
  },
  {
   "cell_type": "code",
   "execution_count": 120,
   "metadata": {},
   "outputs": [
    {
     "name": "stdout",
     "output_type": "stream",
     "text": [
      "108\n",
      "[[array([2020])], [2012], [2011], [2010], [2009], [2008], [2007], [2006]]\n"
     ]
    },
    {
     "name": "stderr",
     "output_type": "stream",
     "text": [
      "/home/logan/miniconda3/envs/csi4106/lib/python3.8/site-packages/sklearn/utils/validation.py:746: VisibleDeprecationWarning: Creating an ndarray from ragged nested sequences (which is a list-or-tuple of lists-or-tuples-or ndarrays with different lengths or shapes) is deprecated. If you meant to do this, you must specify 'dtype=object' when creating the ndarray.\n",
      "  array = np.asarray(array, order=order, dtype=dtype)\n",
      "/home/logan/miniconda3/envs/csi4106/lib/python3.8/site-packages/sklearn/base.py:566: FutureWarning: Arrays of bytes/strings is being converted to decimal numbers if dtype='numeric'. This behavior is deprecated in 0.24 and will be removed in 1.1 (renaming of 0.26). Please convert your data to numeric values explicitly instead.\n",
      "  X = check_array(X, **check_params)\n",
      "/home/logan/.local/lib/python3.8/site-packages/numpy/ma/core.py:2826: VisibleDeprecationWarning: Creating an ndarray from ragged nested sequences (which is a list-or-tuple of lists-or-tuples-or ndarrays with different lengths or shapes) is deprecated. If you meant to do this, you must specify 'dtype=object' when creating the ndarray.\n",
      "  _data = np.array(data, dtype=dtype, copy=copy,\n"
     ]
    },
    {
     "data": {
      "image/png": "[encoded data removed]",
      "text/plain": [
       "<Figure size 432x288 with 1 Axes>"
      ]
     },
     "metadata": {
      "needs_background": "light"
     },
     "output_type": "display_data"
    }
   ],
   "source": [
    "# Manual imputer\n",
    "\n",
    "data = pd.read_csv('Education_cleaning_test.csv')  # load data set\n",
    "print(len(data))\n",
    "\n",
    "# for row in range(len(data)):\n",
    "#   row = data.iloc[row, :].values.reshape(-1,1)\n",
    "#   print(row)\n",
    "\n",
    "missing = []\n",
    "categories = data.columns[5:].astype(int).values.reshape(-1,1)\n",
    "row = data.iloc[20, :].values.reshape(-1,1)[5:]\n",
    "\n",
    "for i in range(len(row)-1, 0, -1):\n",
    "  if math.isnan(row[i]):\n",
    "    row = np.delete(row, i)\n",
    "    missing.append([categories[i]])\n",
    "    categories = np.delete(categories, i)\n",
    "\n",
    "print(missing)\n",
    "row = row.reshape(-1,1)\n",
    "categories = categories.reshape(-1,1)\n",
    "#X = data.iloc[:, 0].values.reshape(-1, 1)  # values converts it into a numpy array\n",
    "#Y = data.iloc[:, 1].values.reshape(-1, 1)  # -1 means that calculate the dimension of rows, but have 1 column\n",
    "linear_regressor = LinearRegression()  # create object for the class\n",
    "linear_regressor.fit(categories, row)  # perform linear regression\n",
    "Y_pred = linear_regressor.predict(categories)  # make predictions\n",
    "\n",
    "\n",
    "imputed_values = linear_regressor.predict(missing)\n",
    "\n",
    "\n",
    "plt.scatter(categories, row )\n",
    "plt.scatter(missing, imputed_values, c='green')\n",
    "plt.plot(categories, Y_pred, color='red')\n",
    "plt.show()\n"
   ]
  },
  {
   "cell_type": "code",
   "execution_count": 182,
   "metadata": {},
   "outputs": [
    {
     "name": "stdout",
     "output_type": "stream",
     "text": [
      "        2005       2006       2007       2008       2009      2010       2011  \\\n",
      "0  82.304077  79.638752  90.228012  90.128086  91.263733  88.09304  91.168983   \n",
      "1  82.304077  79.638752  90.228012  90.128086  91.263733  88.09304  91.168983   \n",
      "2  82.304077  79.638752  90.228012  90.128086  91.263733  88.09304  91.168983   \n",
      "3  82.304077  79.638752  90.228012  90.128086  91.263733  88.09304  91.168983   \n",
      "4  82.304077  79.638752  90.228012  90.128086  91.263733  88.09304  91.168983   \n",
      "\n",
      "        2012       2013       2014       2015      2016       2017       2018  \\\n",
      "0  74.747639  93.327553  95.620468  94.882477  94.19249  97.930794  95.476341   \n",
      "1  74.747639  93.327553  95.620468  94.882477  94.19249  97.930794  95.476341   \n",
      "2  74.747639  93.327553  95.620468  94.882477  94.19249  97.930794  95.476341   \n",
      "3  74.747639  93.327553  95.620468  94.882477  94.19249  97.930794  95.476341   \n",
      "4  74.747639  93.327553  95.620468  94.882477  94.19249  97.930794  95.476341   \n",
      "\n",
      "         2019       2020  \n",
      "0  100.561565  94.559128  \n",
      "1  100.561565  94.559128  \n",
      "2  100.561565  94.559128  \n",
      "3  100.561565  94.559128  \n",
      "4  100.561565  94.559128  \n",
      "   2005  2006  2007  2008  2009  2010  2011  2012  2013  2014  2015  2016  \\\n",
      "0   NaN   NaN   NaN   NaN   NaN   NaN   NaN   NaN   NaN   NaN   NaN   NaN   \n",
      "1   NaN   NaN   NaN   NaN   NaN   NaN   NaN   NaN   NaN   NaN   NaN   NaN   \n",
      "2   NaN   NaN   NaN   NaN   NaN   NaN   NaN   NaN   NaN   NaN   NaN   NaN   \n",
      "3   NaN   NaN   NaN   NaN   NaN   NaN   NaN   NaN   NaN   NaN   NaN   NaN   \n",
      "4   NaN   NaN   NaN   NaN   NaN   NaN   NaN   NaN   NaN   NaN   NaN   NaN   \n",
      "\n",
      "   2017  2018  2019  2020  \n",
      "0   NaN   NaN   NaN   NaN  \n",
      "1   NaN   NaN   NaN   NaN  \n",
      "2   NaN   NaN   NaN   NaN  \n",
      "3   NaN   NaN   NaN   NaN  \n",
      "4   NaN   NaN   NaN   NaN  \n",
      "        2005       2006       2007       2008       2009      2010       2011  \\\n",
      "0  82.304077  79.638752  90.228012  90.128086  91.263733  88.09304  91.168983   \n",
      "1  82.304077  79.638752  90.228012  90.128086  91.263733  88.09304  91.168983   \n",
      "2  82.304077  79.638752  90.228012  90.128086  91.263733  88.09304  91.168983   \n",
      "3  82.304077  79.638752  90.228012  90.128086  91.263733  88.09304  91.168983   \n",
      "4  82.304077  79.638752  90.228012  90.128086  91.263733  88.09304  91.168983   \n",
      "\n",
      "        2012       2013       2014       2015      2016       2017       2018  \\\n",
      "0  74.747639  93.327553  95.620468  94.882477  94.19249  97.930794  95.476341   \n",
      "1  74.747639  93.327553  95.620468  94.882477  94.19249  97.930794  95.476341   \n",
      "2  74.747639  93.327553  95.620468  94.882477  94.19249  97.930794  95.476341   \n",
      "3  74.747639  93.327553  95.620468  94.882477  94.19249  97.930794  95.476341   \n",
      "4  74.747639  93.327553  95.620468  94.882477  94.19249  97.930794  95.476341   \n",
      "\n",
      "         2019       2020  \n",
      "0  100.561565  94.559128  \n",
      "1  100.561565  94.559128  \n",
      "2  100.561565  94.559128  \n",
      "3  100.561565  94.559128  \n",
      "4  100.561565  94.559128  \n"
     ]
    }
   ],
   "source": [
    "test_data = pd.read_csv('Education_cleaning_test.csv')\n",
    "# print(len(test_data))\n",
    "\n",
    "categories = test_data.columns[:5].values.reshape(-1,1).flatten()\n",
    "# print(categories)\n",
    "\n",
    "numerical_test_data = test_data.drop(columns=categories, axis=1)\n",
    "# print(numerical_test_data.head)\n",
    "\n",
    "imputer = SimpleImputer(strategy=\"median\")\n",
    "imputer.fit(numerical_test_data)\n",
    "\n",
    "sample_incomplete_rows = data[data.isnull().any(axis=1)].head()\n",
    "\n",
    "# transform the dataset to have the computed median\n",
    "input_x = imputer.transform(numerical_test_data)\n",
    "# creating the dataframe from the 2D numpy array\n",
    "imputed_data = pd.DataFrame(input_x, columns=numerical_test_data.columns, index=numerical_test_data.index)\n",
    "\n",
    "# see what is imputed into the missing value cells\n",
    "print(imputed_data.loc[sample_incomplete_rows.index.values])\n",
    "print(numerical_test_data.head())\n",
    "print(imputed_data.head())\n"
   ]
  }
 ],
 "metadata": {
  "interpreter": {
   "hash": "367e97bd1bb993270875333a5c0c0ed703268d8b20e00e99d22f213f8fc7c5a0"
  },
  "kernelspec": {
   "display_name": "Python 3.8.12 ('csi4106')",
   "language": "python",
   "name": "python3"
  },
  "language_info": {
   "codemirror_mode": {
    "name": "ipython",
    "version": 3
   },
   "file_extension": ".py",
   "mimetype": "text/x-python",
   "name": "python",
   "nbconvert_exporter": "python",
   "pygments_lexer": "ipython3",
   "version": "3.8.12"
  },
  "orig_nbformat": 4
 },
 "nbformat": 4,
 "nbformat_minor": 2
}
