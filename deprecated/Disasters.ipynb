{
 "cells": [
  {
   "cell_type": "code",
   "execution_count": 6,
   "metadata": {},
   "outputs": [],
   "source": [
    "import pandas as pd\n",
    "# import json\n",
    "\n",
    "# with open('keys.json') as json_file:\n",
    "#     column_keys = json.load(json_file)\n",
    "\n",
    "data = pd.read_csv('../data/emdat_public_2022_01_31.csv')"
   ]
  },
  {
   "cell_type": "code",
   "execution_count": 7,
   "metadata": {},
   "outputs": [],
   "source": [
    "countries = [\n",
    "  'United States of America (the)',\n",
    "  'Canada',\n",
    "  'Mexico',\n",
    "  'India',\n",
    "  'China',\n",
    "  'Sudan',\n",
    "  'Bangladesh',\n",
    "  'Brazil',\n",
    "  'Niger'\n",
    "]\n",
    "columns = [\n",
    "  'Dis No',\n",
    "  'Country',\n",
    "  'Start Year',\n",
    "  'Start Month',\n",
    "  'Start Day',\n",
    "  'End Year',\n",
    "  'End Month',\n",
    "  'End Day',\n",
    "  'Disaster Type',\n",
    "  'Total Affected',\n",
    "  'Total Deaths',  \n",
    "]"
   ]
  },
  {
   "cell_type": "code",
   "execution_count": null,
   "metadata": {},
   "outputs": [],
   "source": [
    "selected_data = pd.DataFrame(columns = columns)\n",
    "\n",
    "selected_data.insert(0, 'Event ID', '')\n",
    "\n",
    "for country in countries:\n",
    "    current_info = data.loc[data['Country'] == country]\n",
    "    selected_data = selected_data.replace(['United States of America (the)'],'United States')\n",
    "    current_info = current_info.loc[data['Start Year'].between(2005, 2020)]\n",
    "    selected_data = pd.concat((selected_data, current_info[columns]))\n",
    "\n",
    "# selected_data['Total Deaths'] = np.where((selected_data['Total Affected'] > 0) &  (selected_data['Total Deaths'].isna()), 0 , \"\" )\n",
    "#Fills in missing values in Total affected and Total deaths based off assumptions.\n",
    "selected_data.loc [(selected_data['Total Affected'] > 0) & (selected_data['Total Deaths'].isnull()), 'Total Deaths'] = 0\n",
    "selected_data.loc [(selected_data['Total Affected'].isnull()) & (selected_data['Total Deaths'].isnull()), 'Total Deaths'] = 0 \n",
    "selected_data.loc [(selected_data['Total Affected'].isnull()) & (selected_data['Total Deaths'].notnull()), 'Total Affected'] = selected_data['Total Deaths']\n",
    "selected_data.loc [(selected_data['Event ID'].isnull()), 'Event ID'] = \"None\"\n",
    "\n",
    "#Deletes columns with missing data in Start day\n",
    "start_d = selected_data[selected_data['Start Day'].isnull()].index\n",
    "selected_data.drop(start_d, inplace=True)\n",
    "\n",
    "#Deletes columns with missing data in End day\n",
    "end_d = selected_data[selected_data['End Day'].isnull()].index\n",
    "selected_data.drop(end_d, inplace=True)\n",
    "\n",
    "#Deletes columns with missing data in End Month\n",
    "end_m = selected_data[selected_data['End Month'].isnull()].index\n",
    "selected_data.drop(end_m, inplace=True)\n",
    "\n",
    "selected_data.rename(columns={'Disaster Type': 'Event Type'}, inplace=True)\n",
    "\n",
    "# selected_data = selected_data.rename(columns=column_keys)\n",
    "selected_data.to_csv(path_or_buf=f'../seed_data/Disaster_seed.csv', index=False)"
   ]
  }
 ],
 "metadata": {
  "interpreter": {
   "hash": "aee8b7b246df8f9039afb4144a1f6fd8d2ca17a180786b69acc140d282b71a49"
  },
  "kernelspec": {
   "display_name": "Python 3.9.7 64-bit",
   "language": "python",
   "name": "python3"
  },
  "language_info": {
   "codemirror_mode": {
    "name": "ipython",
    "version": 3
   },
   "file_extension": ".py",
   "mimetype": "text/x-python",
   "name": "python",
   "nbconvert_exporter": "python",
   "pygments_lexer": "ipython3",
   "version": "3.9.7"
  },
  "orig_nbformat": 4
 },
 "nbformat": 4,
 "nbformat_minor": 2
}
