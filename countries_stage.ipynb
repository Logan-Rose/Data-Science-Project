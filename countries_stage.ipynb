{
 "cells": [
  {
   "cell_type": "code",
   "execution_count": 1,
   "metadata": {},
   "outputs": [],
   "source": [
    "import pandas as pd\n",
    "import uuid\n",
    "from countryinfo import CountryInfo\n",
    "import pycountry_convert as pc\n",
    "\n",
    "countries_info = pd.read_csv('./data/HNP_StatsCountry.csv')\n",
    "countries_stats = pd.read_csv('./data/HNP_StatsData.csv')"
   ]
  },
  {
   "cell_type": "code",
   "execution_count": 2,
   "metadata": {},
   "outputs": [],
   "source": [
    "countries = [\n",
    "  'CAN',\n",
    "  'USA',\n",
    "  'MEX',\n",
    "  'IND',\n",
    "  'CHN',\n",
    "  'SDN',\n",
    "  'BGD',\n",
    "  'BRA',\n",
    "  'NER'\n",
    "]\n",
    "columns = [\n",
    "  \"Long Name\",\n",
    "  \"Short Name\",\n",
    "  \"Country Code\",\n",
    "  \"Region\",\n",
    "  # Continent     +\n",
    "  # Population-----------------\n",
    "  \"Currency Unit\",\n",
    "  # Capital\n",
    "  # birth rate-----------------\n",
    "  # sex ratio at birth-----------------\n",
    "  # Number of languages\n",
    "  # area     +\n",
    "  \"Income Group\",\n",
    "  # GNI CAPITA-------------\n",
    "  \"Latest population census\"  \n",
    "]\n"
   ]
  },
  {
   "cell_type": "code",
   "execution_count": 5,
   "metadata": {},
   "outputs": [
    {
     "name": "stdout",
     "output_type": "stream",
     "text": [
      "Index(['Long Name', 'Short Name', 'Country Code', 'Region', 'Currency Unit',\n",
      "       'Income Group', 'Latest population census', 'continent', 'capital',\n",
      "       'area', 'num_languages'],\n",
      "      dtype='object')\n"
     ]
    },
    {
     "ename": "NameError",
     "evalue": "name 'selected_data_imputed' is not defined",
     "output_type": "error",
     "traceback": [
      "\u001b[0;31m---------------------------------------------------------------------------\u001b[0m",
      "\u001b[0;31mNameError\u001b[0m                                 Traceback (most recent call last)",
      "Input \u001b[0;32mIn [5]\u001b[0m, in \u001b[0;36m<module>\u001b[0;34m\u001b[0m\n\u001b[1;32m     17\u001b[0m   selected_data \u001b[38;5;241m=\u001b[39m pd\u001b[38;5;241m.\u001b[39mconcat((selected_data, current_info))\n\u001b[1;32m     19\u001b[0m \u001b[38;5;28mprint\u001b[39m(selected_data\u001b[38;5;241m.\u001b[39mcolumns)\n\u001b[0;32m---> 20\u001b[0m selected_data\u001b[38;5;241m.\u001b[39minsert(\u001b[38;5;241m0\u001b[39m, \u001b[38;5;124m'\u001b[39m\u001b[38;5;124mkey\u001b[39m\u001b[38;5;124m'\u001b[39m, [i \u001b[38;5;28;01mfor\u001b[39;00m i \u001b[38;5;129;01min\u001b[39;00m \u001b[38;5;28mrange\u001b[39m(\u001b[38;5;28mlen\u001b[39m(\u001b[43mselected_data_imputed\u001b[49m\u001b[38;5;241m.\u001b[39mindex))])\n\u001b[1;32m     21\u001b[0m selected_data\u001b[38;5;241m.\u001b[39mto_csv(path_or_buf\u001b[38;5;241m=\u001b[39m\u001b[38;5;124mf\u001b[39m\u001b[38;5;124m'\u001b[39m\u001b[38;5;124m./seed_data/countries_seed.csv\u001b[39m\u001b[38;5;124m'\u001b[39m, columns\u001b[38;5;241m=\u001b[39mselected_data\u001b[38;5;241m.\u001b[39mcolumns, index\u001b[38;5;241m=\u001b[39m\u001b[38;5;28;01mFalse\u001b[39;00m) \n\u001b[1;32m     22\u001b[0m \u001b[38;5;28mprint\u001b[39m(selected_data)\n",
      "\u001b[0;31mNameError\u001b[0m: name 'selected_data_imputed' is not defined"
     ]
    }
   ],
   "source": [
    "selected_data = pd.DataFrame()\n",
    "for country in countries:\n",
    "  current_info = countries_info.loc[countries_info['Country Code'] == country][columns]\n",
    "\n",
    "  alpha =countries_info.loc[countries_info['Country Code'] == country][\"2-alpha code\"].values[0]\n",
    "  continent = pc.country_alpha2_to_continent_code(alpha)\n",
    "  \n",
    "  current_countryInfo = CountryInfo(alpha)\n",
    "  capital = current_countryInfo.capital()\n",
    "  area = current_countryInfo.area()\n",
    "  numLanguages = len(current_countryInfo.languages())\n",
    "\n",
    "  current_info.insert(len(current_info.columns),'continent', continent)\n",
    "  current_info.insert(len(current_info.columns),'capital', capital)\n",
    "  current_info.insert(len(current_info.columns),'area', area)\n",
    "  current_info.insert(len(current_info.columns),'num_languages', numLanguages)\n",
    "  selected_data = pd.concat((selected_data, current_info))\n",
    "\n",
    "print(selected_data.columns)\n",
    "selected_data.insert(0, 'key', [i for i in range(len(selected_data.index))])\n",
    "selected_data.to_csv(path_or_buf=f'./seed_data/countries_seed.csv', columns=selected_data.columns, index=False) \n",
    "print(selected_data) "
   ]
  }
 ],
 "metadata": {
  "interpreter": {
   "hash": "367e97bd1bb993270875333a5c0c0ed703268d8b20e00e99d22f213f8fc7c5a0"
  },
  "kernelspec": {
   "display_name": "Python 3.8.12 ('csi4106')",
   "language": "python",
   "name": "python3"
  },
  "language_info": {
   "codemirror_mode": {
    "name": "ipython",
    "version": 3
   },
   "file_extension": ".py",
   "mimetype": "text/x-python",
   "name": "python",
   "nbconvert_exporter": "python",
   "pygments_lexer": "ipython3",
   "version": "3.8.12"
  },
  "orig_nbformat": 4
 },
 "nbformat": 4,
 "nbformat_minor": 2
}
